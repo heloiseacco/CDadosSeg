{
  "nbformat": 4,
  "nbformat_minor": 0,
  "metadata": {
    "colab": {
      "name": "T2_Parte1.ipynb",
      "provenance": []
    },
    "kernelspec": {
      "name": "python3",
      "display_name": "Python 3"
    }
  },
  "cells": [
    {
      "cell_type": "code",
      "metadata": {
        "colab": {
          "resources": {
            "http://localhost:8080/nbextensions/google.colab/files.js": {
              "data": "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",
              "ok": true,
              "headers": [
                [
                  "content-type",
                  "application/javascript"
                ]
              ],
              "status": 200,
              "status_text": ""
            }
          },
          "base_uri": "https://localhost:8080/",
          "height": 412
        },
        "id": "iFoC3MCdc4WV",
        "outputId": "499b846e-5c1c-477d-b696-533ab26763ae"
      },
      "source": [
        "#carregar os arquivos de Manifesto. Deve ser criada a pasta manifest para armazenar tais arquivos. \r\n",
        "from google.colab import files\r\n",
        "uploaded =files.upload()\r\n"
      ],
      "execution_count": null,
      "outputs": [
        {
          "output_type": "display_data",
          "data": {
            "text/html": [
              "\n",
              "     <input type=\"file\" id=\"files-12b2fbda-f6a4-4bb2-8488-794185dfab96\" name=\"files[]\" multiple disabled\n",
              "        style=\"border:none\" />\n",
              "     <output id=\"result-12b2fbda-f6a4-4bb2-8488-794185dfab96\">\n",
              "      Upload widget is only available when the cell has been executed in the\n",
              "      current browser session. Please rerun this cell to enable.\n",
              "      </output>\n",
              "      <script src=\"/nbextensions/google.colab/files.js\"></script> "
            ],
            "text/plain": [
              "<IPython.core.display.HTML object>"
            ]
          },
          "metadata": {
            "tags": []
          }
        },
        {
          "output_type": "stream",
          "text": [
            "Saving AndroidManifest_audible.xml to AndroidManifest_audible.xml\n",
            "Saving AndroidManifest_b4ufly.xml to AndroidManifest_b4ufly.xml\n",
            "Saving AndroidManifest_coursera.xml to AndroidManifest_coursera.xml\n",
            "Saving AndroidManifest_duolingo.xml to AndroidManifest_duolingo.xml\n",
            "Saving AndroidManifest_lego_bricksmore.xml to AndroidManifest_lego_bricksmore.xml\n",
            "Saving AndroidManifest_lego_duplo.xml to AndroidManifest_lego_duplo.xml\n",
            "Saving AndroidManifest_mmapps_mirror.xml to AndroidManifest_mmapps_mirror.xml\n",
            "Saving AndroidManifest_samsung_kidsplay.xml to AndroidManifest_samsung_kidsplay.xml\n",
            "Saving AndroidManifest_spatifo_dublo.xml to AndroidManifest_spatifo_dublo.xml\n",
            "Saving AndroidManifest_starbucks.xml to AndroidManifest_starbucks.xml\n",
            "Saving AndroidManifest_wordwebsoftware.xml to AndroidManifest_wordwebsoftware.xml\n"
          ],
          "name": "stdout"
        }
      ]
    },
    {
      "cell_type": "code",
      "metadata": {
        "colab": {
          "base_uri": "https://localhost:8080/"
        },
        "id": "3zpOCDrnD9tN",
        "outputId": "363ad196-243c-426c-f817-e4322227b60c"
      },
      "source": [
        "import os\r\n",
        "from xml.dom import minidom\r\n",
        "from os import walk\r\n",
        "from functools import reduce\r\n",
        "\r\n",
        "#leitura dos arquivos manifesto (XML)\r\n",
        "def read_permissions(manifest):\r\n",
        "    permissions = []\r\n",
        "    xmldoc = minidom.parse(manifest)\r\n",
        "    itemlist = xmldoc.getElementsByTagName('uses-permission')\r\n",
        "    for s in itemlist:\r\n",
        "        if s.attributes['android:name']:\r\n",
        "            permission = s.attributes['android:name'].value.split(\".\")\r\n",
        "            permission_name = permission[-1]\r\n",
        "            if permission_name.isupper():\r\n",
        "                permissions.append(permission_name)\r\n",
        "            else:\r\n",
        "                # tratando casos especiais. EX: com.amazon.dcp.sso.permission.AmazonAccountPropertyService.property.changed\r\n",
        "                permissions.append(permission[-2] + \".\" + permission_name)\r\n",
        "    return permissions\r\n",
        "\r\n",
        "#leitura do diretorio\r\n",
        "def read_manifests(dir):\r\n",
        "    apps = {}\r\n",
        "    _, _, filenames = next(walk(dir))\r\n",
        "    for file in filenames:\r\n",
        "        manifest = os.path.join(dir, file)\r\n",
        "        permissions = read_permissions(manifest)\r\n",
        "        app_name = file.replace(\"AndroidManifest_\", \"\")\r\n",
        "        app_name = app_name.replace(\".xml\", \"\")\r\n",
        "        apps[app_name] = permissions\r\n",
        "    return apps\r\n",
        "\r\n",
        "\r\n",
        "#identificação das permissões existentes em cada manifesto.\r\n",
        "def get_todas(app, apps):\r\n",
        "    permissoes_app = set(apps[app])\r\n",
        "    return permissoes_app\r\n",
        "\r\n",
        "#identificação das permissões existentes em comum em todos os manifestos do diretório.\r\n",
        "def get_intersection(apps):\r\n",
        "    intersection = set()\r\n",
        "    aux = []\r\n",
        "    for app in apps:\r\n",
        "        aux.append(apps[app])\r\n",
        "    return list(reduce(set.intersection, [set(item) for item in aux]))\r\n",
        "\r\n",
        "#identificação das permissões exclusivas de cada manifestos do diretório.\r\n",
        "def get_difference(app, apps):\r\n",
        "    permissoes_app = set(apps[app])\r\n",
        "    permissoes_outros_apps = []\r\n",
        "    for tmp in apps:            \r\n",
        "        if app != tmp:\r\n",
        "            permissoes_outros_apps.append(apps[tmp])\r\n",
        "    return permissoes_app.difference(*permissoes_outros_apps)\r\n",
        "\r\n",
        "\r\n",
        "\r\n",
        "# EXECUTAR\r\n",
        "if __name__ == \"__main__\":\r\n",
        "    dir = os.path.join(os.path.abspath(os.getcwd()), \"manifest\")\r\n",
        "    apps = read_manifests(dir)\r\n",
        "\r\n",
        "    print(\"===================Permissões por APK: ===================\")\r\n",
        "    for app in apps:\r\n",
        "        todas = get_todas(app, apps)\r\n",
        "        print(app, \"=\", todas)\r\n",
        "\r\n",
        "    print(\"\\n\\n===================Permissões únicas por APK ===================: \")\r\n",
        "    for app in apps:\r\n",
        "        diff = get_difference(app, apps)\r\n",
        "        print(app, \"=\", diff)\r\n",
        "\r\n",
        "    print(\"\\n\\n===================Permissões comuns das APKs: =================== \\n\", get_intersection(apps))\r\n",
        "\r\n",
        "\r\n"
      ],
      "execution_count": null,
      "outputs": [
        {
          "output_type": "stream",
          "text": [
            "===================Permissões por APK: ===================\n",
            "coursera = {'WRITE_SYNC_SETTINGS', 'FOREGROUND_SERVICE', 'RECEIVE', 'GET_ACCOUNTS', 'ACCESS_WIFI_STATE', 'BIND_GET_INSTALL_REFERRER_SERVICE', 'WRITE_EXTERNAL_STORAGE', 'ACCESS_NETWORK_STATE', 'VIBRATE', 'SYSTEM_ALERT_WINDOW', 'READ_EXTERNAL_STORAGE', 'INTERNET', 'RECEIVE_BOOT_COMPLETED', 'WAKE_LOCK', 'DOWNLOAD_WITHOUT_NOTIFICATION', 'READ_CALENDAR', 'WRITE_CALENDAR', 'READ_SYNC_STATS', 'GET_TASKS'}\n",
            "lego_duplo = {'CHANGE_WIFI_MULTICAST_STATE', 'ACCESS_WIFI_STATE', 'WRITE_EXTERNAL_STORAGE', 'ACCESS_NETWORK_STATE', 'VIBRATE', 'INTERNET', 'WAKE_LOCK', 'CHECK_LICENSE'}\n",
            "samsung_kidsplay = {'BIND_GET_INSTALL_REFERRER_SERVICE', 'WRITE_EXTERNAL_STORAGE', 'INSTALL_PACKAGES', 'UPDATE_APP_OPS_STATS', 'CAMERA', 'RECORD_AUDIO', 'STATUS_BAR', 'FORCE_STOP_PACKAGES', 'GET_ACCOUNTS', 'ACCESS_NETWORK_STATE', 'READ_PHONE_STATE', 'INTERNET', 'DOWNLOAD_WITHOUT_NOTIFICATION', 'PACKAGE_USAGE_STATS', 'RECEIVE', 'FOREGROUND_SERVICE', 'WRITE_SECURE_SETTINGS', 'ACCESS_WIFI_STATE', 'VIBRATE', 'DEFAULT_HOME_CHANGE_PERMISSION', 'WAKE_LOCK', 'MOVE_PACKAGE', 'MANAGE_ROLE_HOLDERS', 'GRANT_RUNTIME_PERMISSIONS', 'DELETE_PACKAGES', 'BLUETOOTH', 'SET_ACTIVITY_WATCHER', 'CHANGE_WIFI_STATE', 'SET_PREFERRED_APPLICATIONS', 'SYSTEM_ALERT_WINDOW', 'DISABLE_KEYGUARD', 'WRITE_SETTINGS', 'READ_EXTERNAL_STORAGE', 'MOUNT_UNMOUNT_FILESYSTEMS', 'RECEIVE_BOOT_COMPLETED', 'MANAGE_USERS', 'C2D_MESSAGE', 'GET_TASKS'}\n",
            "duolingo = {'BIND_GET_INSTALL_REFERRER_SERVICE', 'WRITE_EXTERNAL_STORAGE', 'RECORD_AUDIO', 'PROVIDER_INSERT_BADGE', 'READ_APP_BADGE', 'GET_ACCOUNTS', 'BADGE_COUNT_WRITE', 'READ', 'READ_SETTINGS', 'ACCESS_NETWORK_STATE', 'INTERNET', 'RECEIVE', 'FOREGROUND_SERVICE', 'UPDATE_COUNT', 'UPDATE_SHORTCUT', 'VIBRATE', 'CHANGE_BADGE', 'WAKE_LOCK', 'BILLING', 'UPDATE_BADGE', 'WRITE_SETTINGS', 'READ_EXTERNAL_STORAGE', 'AUTHENTICATE_ACCOUNTS', 'RECEIVE_BOOT_COMPLETED', 'BADGE_COUNT_READ', 'WRITE', 'BROADCAST_BADGE'}\n",
            "lego_bricksmore = {'INTERNET'}\n",
            "audible = {'BIND_GET_INSTALL_REFERRER_SERVICE', 'WRITE_EXTERNAL_STORAGE', 'USE_DEVICE_CREDENTIALS', 'CALL_AMAZON_DEVICE_INFORMATION_PROVIDER', 'COLLECT_METRICS', 'CHANGE_WIFI_MULTICAST_STATE', 'property.changed', 'GET_ACCOUNTS', 'READ_SETTINGS', 'ACCESS_NETWORK_STATE', 'MANAGE_COR_PFM', 'EXPAND_STATUS_BAR', 'READ_PHONE_STATE', 'INTERNET', 'account.changed', 'CUSTOMER_ATTRIBUTE_SERVICE', 'RECEIVE', 'FOREGROUND_SERVICE', 'ACCESS_WIFI_STATE', 'DYN_CONFIG_VALUES_UPDATED', 'WAKE_LOCK', 'BLUETOOTH', 'CMS_ACCESS', 'CHANGE_WIFI_STATE', 'READ_EXTERNAL_STORAGE', 'RECEIVE_BOOT_COMPLETED', 'C2D_MESSAGE', 'GET_TASKS', 'AUTH_SDK', 'METRICS_PERMISSION'}\n",
            "b4ufly = {'RECEIVE', 'ACCESS_WIFI_STATE', 'BIND_GET_INSTALL_REFERRER_SERVICE', 'ACCESS_FINE_LOCATION', 'ACCESS_NETWORK_STATE', 'INTERNET', 'WAKE_LOCK'}\n",
            "mmapps_mirror = {'RECEIVE', 'BIND_GET_INSTALL_REFERRER_SERVICE', 'BILLING', 'WRITE_EXTERNAL_STORAGE', 'ACCESS_NETWORK_STATE', 'VIBRATE', 'INTERNET', 'RECEIVE_BOOT_COMPLETED', 'WAKE_LOCK', 'CAMERA'}\n",
            "wordwebsoftware = {'WAKE_LOCK', 'ACCESS_NETWORK_STATE', 'CHECK_LICENSE', 'INTERNET'}\n",
            "starbucks = {'RECEIVE', 'ACCESS_COARSE_LOCATION', 'USE_FINGERPRINT', 'ACCESS_WIFI_STATE', 'BIND_GET_INSTALL_REFERRER_SERVICE', 'ACCESS_FINE_LOCATION', 'ACCESS_NETWORK_STATE', 'VIBRATE', 'USE_BIOMETRIC', 'INTERNET', 'WAKE_LOCK', 'CAMERA', 'READ_CONTACTS', 'ACCESS_PERMISSION'}\n",
            "spatifo_dublo = {'ACCESS_NETWORK_STATE', 'INTERNET'}\n",
            "\n",
            "\n",
            "===================Permissões únicas por APK ===================: \n",
            "coursera = {'WRITE_SYNC_SETTINGS', 'WRITE_CALENDAR', 'READ_CALENDAR', 'READ_SYNC_STATS'}\n",
            "lego_duplo = set()\n",
            "samsung_kidsplay = {'INSTALL_PACKAGES', 'UPDATE_APP_OPS_STATS', 'STATUS_BAR', 'FORCE_STOP_PACKAGES', 'PACKAGE_USAGE_STATS', 'WRITE_SECURE_SETTINGS', 'DEFAULT_HOME_CHANGE_PERMISSION', 'MOVE_PACKAGE', 'MANAGE_ROLE_HOLDERS', 'GRANT_RUNTIME_PERMISSIONS', 'DELETE_PACKAGES', 'SET_ACTIVITY_WATCHER', 'SET_PREFERRED_APPLICATIONS', 'DISABLE_KEYGUARD', 'MOUNT_UNMOUNT_FILESYSTEMS', 'MANAGE_USERS'}\n",
            "duolingo = {'UPDATE_COUNT', 'UPDATE_SHORTCUT', 'CHANGE_BADGE', 'PROVIDER_INSERT_BADGE', 'READ_APP_BADGE', 'BADGE_COUNT_WRITE', 'READ', 'UPDATE_BADGE', 'AUTHENTICATE_ACCOUNTS', 'BADGE_COUNT_READ', 'WRITE', 'BROADCAST_BADGE'}\n",
            "lego_bricksmore = set()\n",
            "audible = {'DYN_CONFIG_VALUES_UPDATED', 'account.changed', 'USE_DEVICE_CREDENTIALS', 'CALL_AMAZON_DEVICE_INFORMATION_PROVIDER', 'COLLECT_METRICS', 'property.changed', 'CMS_ACCESS', 'MANAGE_COR_PFM', 'EXPAND_STATUS_BAR', 'CUSTOMER_ATTRIBUTE_SERVICE', 'AUTH_SDK', 'METRICS_PERMISSION'}\n",
            "b4ufly = set()\n",
            "mmapps_mirror = set()\n",
            "wordwebsoftware = set()\n",
            "starbucks = {'ACCESS_COARSE_LOCATION', 'ACCESS_PERMISSION', 'USE_FINGERPRINT', 'USE_BIOMETRIC', 'READ_CONTACTS'}\n",
            "spatifo_dublo = set()\n",
            "\n",
            "\n",
            "===================Permissões comuns das APKs: =================== \n",
            " ['INTERNET']\n"
          ],
          "name": "stdout"
        }
      ]
    }
  ]
}